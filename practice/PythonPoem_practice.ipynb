{
 "cells": [
  {
   "cell_type": "code",
   "execution_count": 1,
   "id": "ecc58288",
   "metadata": {},
   "outputs": [],
   "source": [
    "var1 = 1\n",
    "var2 = 2\n",
    "var3 = \"3\""
   ]
  },
  {
   "cell_type": "code",
   "execution_count": 2,
   "id": "5bc0beea",
   "metadata": {},
   "outputs": [
    {
     "ename": "TypeError",
     "evalue": "unsupported operand type(s) for +: 'int' and 'str'",
     "output_type": "error",
     "traceback": [
      "\u001b[0;31m---------------------------------------------------------------------------\u001b[0m",
      "\u001b[0;31mTypeError\u001b[0m                                 Traceback (most recent call last)",
      "\u001b[0;32m/var/folders/f0/4x5hzv0s6ysbmcr5mfn3hd780000gn/T/ipykernel_15246/4277734266.py\u001b[0m in \u001b[0;36m<module>\u001b[0;34m\u001b[0m\n\u001b[0;32m----> 1\u001b[0;31m \u001b[0mprint\u001b[0m\u001b[0;34m(\u001b[0m\u001b[0mvar1\u001b[0m \u001b[0;34m+\u001b[0m \u001b[0mvar2\u001b[0m \u001b[0;34m+\u001b[0m \u001b[0mvar3\u001b[0m\u001b[0;34m)\u001b[0m\u001b[0;34m\u001b[0m\u001b[0;34m\u001b[0m\u001b[0m\n\u001b[0m",
      "\u001b[0;31mTypeError\u001b[0m: unsupported operand type(s) for +: 'int' and 'str'"
     ]
    }
   ],
   "source": [
    "print(var1 + var2 + var3)"
   ]
  },
  {
   "cell_type": "code",
   "execution_count": 3,
   "id": "dd94050b",
   "metadata": {},
   "outputs": [],
   "source": [
    "str = \"pynative\""
   ]
  },
  {
   "cell_type": "code",
   "execution_count": 4,
   "id": "6f07df20",
   "metadata": {},
   "outputs": [
    {
     "name": "stdout",
     "output_type": "stream",
     "text": [
      "yn\n"
     ]
    }
   ],
   "source": [
    "print (str[1:3])"
   ]
  },
  {
   "cell_type": "code",
   "execution_count": 5,
   "id": "b8277a10",
   "metadata": {},
   "outputs": [],
   "source": [
    "var = \"James\" * 2 * 3"
   ]
  },
  {
   "cell_type": "code",
   "execution_count": 6,
   "id": "32f047ef",
   "metadata": {},
   "outputs": [
    {
     "name": "stdout",
     "output_type": "stream",
     "text": [
      "JamesJamesJamesJamesJamesJames\n"
     ]
    }
   ],
   "source": [
    "print(var)"
   ]
  },
  {
   "cell_type": "code",
   "execution_count": 7,
   "id": "baa819b0",
   "metadata": {},
   "outputs": [],
   "source": [
    "names = ['mary', 'bob', 'jessica', 'pierre', 'bob', 'jennifer', 'chris', \n",
    "'christina', 'tina', 'mary', 'tina', 'bob', 'michelle','jennifer']"
   ]
  },
  {
   "cell_type": "code",
   "execution_count": 12,
   "id": "3c4b0e81",
   "metadata": {},
   "outputs": [
    {
     "ename": "TypeError",
     "evalue": "pop expected at most 1 argument, got 4",
     "output_type": "error",
     "traceback": [
      "\u001b[0;31m---------------------------------------------------------------------------\u001b[0m",
      "\u001b[0;31mTypeError\u001b[0m                                 Traceback (most recent call last)",
      "\u001b[0;32m/var/folders/f0/4x5hzv0s6ysbmcr5mfn3hd780000gn/T/ipykernel_15246/1831768306.py\u001b[0m in \u001b[0;36m<module>\u001b[0;34m\u001b[0m\n\u001b[0;32m----> 1\u001b[0;31m \u001b[0mpop_result\u001b[0m \u001b[0;34m=\u001b[0m \u001b[0mnames\u001b[0m\u001b[0;34m.\u001b[0m\u001b[0mpop\u001b[0m\u001b[0;34m(\u001b[0m\u001b[0;34m'mary'\u001b[0m\u001b[0;34m,\u001b[0m \u001b[0;34m'bob'\u001b[0m\u001b[0;34m,\u001b[0m \u001b[0;34m'tina'\u001b[0m\u001b[0;34m,\u001b[0m \u001b[0;34m'jennifer'\u001b[0m\u001b[0;34m)\u001b[0m\u001b[0;34m\u001b[0m\u001b[0;34m\u001b[0m\u001b[0m\n\u001b[0m",
      "\u001b[0;31mTypeError\u001b[0m: pop expected at most 1 argument, got 4"
     ]
    }
   ],
   "source": [
    "pop_result = names.pop('mary', 'bob', 'tina', 'jennifer')"
   ]
  },
  {
   "cell_type": "code",
   "execution_count": 10,
   "id": "8028958c",
   "metadata": {},
   "outputs": [
    {
     "ename": "NameError",
     "evalue": "name 'pop_result' is not defined",
     "output_type": "error",
     "traceback": [
      "\u001b[0;31m---------------------------------------------------------------------------\u001b[0m",
      "\u001b[0;31mNameError\u001b[0m                                 Traceback (most recent call last)",
      "\u001b[0;32m/var/folders/f0/4x5hzv0s6ysbmcr5mfn3hd780000gn/T/ipykernel_15246/3429064299.py\u001b[0m in \u001b[0;36m<module>\u001b[0;34m\u001b[0m\n\u001b[0;32m----> 1\u001b[0;31m \u001b[0mprint\u001b[0m\u001b[0;34m(\u001b[0m\u001b[0mpop_result\u001b[0m\u001b[0;34m)\u001b[0m\u001b[0;34m\u001b[0m\u001b[0;34m\u001b[0m\u001b[0m\n\u001b[0m",
      "\u001b[0;31mNameError\u001b[0m: name 'pop_result' is not defined"
     ]
    }
   ],
   "source": [
    "print(pop_result)"
   ]
  },
  {
   "cell_type": "code",
   "execution_count": 13,
   "id": "11502233",
   "metadata": {},
   "outputs": [],
   "source": [
    "sweets = ['apple', 'bananas', 'cantelopes', 'donut']"
   ]
  },
  {
   "cell_type": "code",
   "execution_count": 16,
   "id": "f2e3bcfc",
   "metadata": {},
   "outputs": [],
   "source": [
    "room1=['gabe', 'greg']\n",
    "room2=['michelle','santa','stacey']\n",
    "room3=['adam','sam', 'melissa']\n",
    "house= [room2, room1, room3] "
   ]
  },
  {
   "cell_type": "code",
   "execution_count": 20,
   "id": "e69e64df",
   "metadata": {},
   "outputs": [
    {
     "data": {
      "text/plain": [
       "'santa'"
      ]
     },
     "execution_count": 20,
     "metadata": {},
     "output_type": "execute_result"
    }
   ],
   "source": [
    "house [0][1]"
   ]
  },
  {
   "cell_type": "code",
   "execution_count": 21,
   "id": "49d1addd",
   "metadata": {},
   "outputs": [],
   "source": [
    "names = ['mary', 'bob', 'jessica', 'pierre', 'bob', 'jennifer', 'chris','christina', 'tina', 'mary', 'tina', 'bob', 'michelle','jennifer']"
   ]
  },
  {
   "cell_type": "code",
   "execution_count": 33,
   "id": "5b6dc8e9",
   "metadata": {},
   "outputs": [],
   "source": [
    "remove_element = names.pop(4)\n",
    "remove_element = names.pop(7)\n",
    "remove_element = names.pop()"
   ]
  },
  {
   "cell_type": "code",
   "execution_count": 32,
   "id": "dc1d7083",
   "metadata": {},
   "outputs": [
    {
     "name": "stdout",
     "output_type": "stream",
     "text": [
      "Updated List: ['mary', 'bob', 'jessica', 'pierre', 'christina', 'tina', 'mary', 'tina', 'michelle']\n"
     ]
    }
   ],
   "source": [
    "print('Updated List:', names)"
   ]
  },
  {
   "cell_type": "code",
   "execution_count": 34,
   "id": "047211b7",
   "metadata": {},
   "outputs": [],
   "source": [
    "sweets = ['apple', 'bananas', 'cantelopes', 'donut']"
   ]
  },
  {
   "cell_type": "code",
   "execution_count": 35,
   "id": "f3cd5f16",
   "metadata": {},
   "outputs": [],
   "source": [
    "remove_element = sweets.pop(3)"
   ]
  },
  {
   "cell_type": "code",
   "execution_count": 36,
   "id": "3df21a58",
   "metadata": {},
   "outputs": [
    {
     "name": "stdout",
     "output_type": "stream",
     "text": [
      "Updated List: ['apple', 'bananas', 'cantelopes']\n"
     ]
    }
   ],
   "source": [
    "print('Updated List:', sweets) "
   ]
  },
  {
   "cell_type": "code",
   "execution_count": 1,
   "id": "dbcee764",
   "metadata": {},
   "outputs": [],
   "source": [
    "a = \"atop the loft it sits\"\n",
    "b = \"by Juwon Lee\""
   ]
  },
  {
   "cell_type": "code",
   "execution_count": 4,
   "id": "309c8d34",
   "metadata": {},
   "outputs": [
    {
     "name": "stdout",
     "output_type": "stream",
     "text": [
      "atop the loft it sits\n",
      "\n",
      "\n",
      "by juwon lee\n",
      "\n",
      "\n",
      "atop the loft it sits\n",
      "hanging down from a porcelain bowl which it no longer fits\n",
      "\n",
      "\n",
      "with each passing day it grows longer,\n",
      "the passage of time in no way somber,\n",
      "\n",
      "\n",
      "and when it nearly touches the floor,\n",
      "out come the clippers to propagate s'more\n",
      "\n",
      "\n",
      "passed forward is that new vine,\n",
      "the continuation of a pothos' life, o how divine\n"
     ]
    }
   ],
   "source": [
    "print (f'{a}')\n",
    "print('\\n')\n",
    "print(b.lower())\n",
    "print('\\n')\n",
    "print (f'{a}')\n",
    "print('hanging down from a porcelain bowl which it no longer fits')\n",
    "print('\\n')\n",
    "print('with each passing day it grows longer,')\n",
    "print('the passage of time in no way somber,')\n",
    "print('\\n')\n",
    "print('and when it nearly touches the floor,')\n",
    "print(\"out come the clippers to propagate s'more\")\n",
    "print('\\n')\n",
    "print('passed forward is that new vine,')\n",
    "print(\"the continuation of a pothos' life, o how divine\")"
   ]
  },
  {
   "cell_type": "code",
   "execution_count": 7,
   "id": "4c602558",
   "metadata": {},
   "outputs": [
    {
     "name": "stdout",
     "output_type": "stream",
     "text": [
      "atop the loft it sits\n",
      "\n",
      "\n",
      "by juwon lee\n",
      "\n",
      "\n",
      "\n",
      "\n",
      "atop the loft it sits\n",
      "hanging down from a porcelain bowl which it no longer fits\n",
      "\n",
      "\n",
      "with each passing day it grows longer,\n",
      "the passage of time in no way somber,\n",
      "\n",
      "\n",
      "and when it nearly touches the floor,\n",
      "out come the clippers to propagate s'more\n",
      "\n",
      "\n",
      "atop the loft it sits\n",
      "passed forward is that new vine,\n",
      "the continuation of life of a pothos',\n",
      "o how divine\n"
     ]
    }
   ],
   "source": [
    "print (f'{a}')\n",
    "print('\\n')\n",
    "print(b.lower())\n",
    "print('\\n')\n",
    "print('\\n')\n",
    "print (f'{a}')\n",
    "print('hanging down from a porcelain bowl which it no longer fits')\n",
    "print('\\n')\n",
    "print('with each passing day it grows longer,')\n",
    "print('the passage of time in no way somber,')\n",
    "print('\\n')\n",
    "print('and when it nearly touches the floor,')\n",
    "print(\"out come the clippers to propagate s'more\")\n",
    "print('\\n')\n",
    "print (f'{a}')\n",
    "print('passed forward is that new vine,')\n",
    "print(\"the continuation of life of a pothos',\")\n",
    "print('o how divine')"
   ]
  },
  {
   "cell_type": "code",
   "execution_count": 1,
   "id": "4605393c",
   "metadata": {},
   "outputs": [],
   "source": [
    "names = ['mary', 'bob', 'jessica', 'pierre', 'bob', 'jennifer', 'chris','christina', 'tina', 'mary', 'tina', 'bob', 'michelle','jennifer']"
   ]
  },
  {
   "cell_type": "code",
   "execution_count": 2,
   "id": "473e59fa",
   "metadata": {},
   "outputs": [
    {
     "data": {
      "text/plain": [
       "{'bob',\n",
       " 'chris',\n",
       " 'christina',\n",
       " 'jennifer',\n",
       " 'jessica',\n",
       " 'mary',\n",
       " 'michelle',\n",
       " 'pierre',\n",
       " 'tina'}"
      ]
     },
     "execution_count": 2,
     "metadata": {},
     "output_type": "execute_result"
    }
   ],
   "source": [
    "set(names)"
   ]
  },
  {
   "cell_type": "code",
   "execution_count": 3,
   "id": "2f5baf60",
   "metadata": {},
   "outputs": [],
   "source": [
    "t = \"atop the loft it sits\"\n",
    "b = \"by Juwon Lee\""
   ]
  },
  {
   "cell_type": "code",
   "execution_count": 8,
   "id": "202b38d4",
   "metadata": {},
   "outputs": [],
   "source": [
    "line1=['with each passing day it grows longer,' , 'and when it nearly touches the floor,' ]\n",
    "line2=['hanging down from a porcelain bowl which it no longer fits', 'the passage of time in no way somber,' , \"out come the clippers to propagate s'more\", 'passed forward is that new vine,' ]\n",
    "line3=[\"the continuation of life of a pothos,\"]\n",
    "line4=['o how divine'] \n",
    "stanza= [line4, line2, line3, line1]"
   ]
  },
  {
   "cell_type": "code",
   "execution_count": 20,
   "id": "675199e2",
   "metadata": {},
   "outputs": [
    {
     "name": "stdout",
     "output_type": "stream",
     "text": [
      "atop the loft it sits\n",
      "\n",
      "\n",
      "by juwon lee\n",
      "\n",
      "\n",
      "\n",
      "\n",
      "atop the loft it sits\n",
      "hanging down from a porcelain bowl which it no longer fits\n",
      "\n",
      "\n",
      "with each passing day it grows longer,\n",
      "the passage of time in no way somber,\n",
      "\n",
      "\n",
      "and when it nearly touches the floor,\n",
      "out come the clippers to propagate s'more\n",
      "\n",
      "\n",
      "atop the loft it sits\n",
      "passed forward is that new vine,\n",
      "the continuation of life of a pothos,\n",
      "o how divine\n"
     ]
    }
   ],
   "source": [
    "print (f'{t}')\n",
    "print('\\n')\n",
    "print(b.lower())\n",
    "print('\\n')\n",
    "print('\\n')\n",
    "print (f'{t}')\n",
    "print (stanza [1][0])\n",
    "print('\\n')\n",
    "print (stanza [3][0])\n",
    "print (stanza [1][1])\n",
    "print('\\n')\n",
    "print (stanza [3][1])\n",
    "print (stanza [1][2])\n",
    "print('\\n')\n",
    "print (f'{t}')\n",
    "print (stanza [1][3])\n",
    "print (stanza [2][0])\n",
    "print (stanza [0][0])"
   ]
  },
  {
   "cell_type": "code",
   "execution_count": null,
   "id": "ec927dcf",
   "metadata": {},
   "outputs": [],
   "source": []
  }
 ],
 "metadata": {
  "kernelspec": {
   "display_name": "Python 3 (ipykernel)",
   "language": "python",
   "name": "python3"
  },
  "language_info": {
   "codemirror_mode": {
    "name": "ipython",
    "version": 3
   },
   "file_extension": ".py",
   "mimetype": "text/x-python",
   "name": "python",
   "nbconvert_exporter": "python",
   "pygments_lexer": "ipython3",
   "version": "3.9.13"
  }
 },
 "nbformat": 4,
 "nbformat_minor": 5
}
